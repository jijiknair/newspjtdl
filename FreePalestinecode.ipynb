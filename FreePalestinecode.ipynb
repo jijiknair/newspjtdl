{
 "cells": [
  {
   "cell_type": "code",
   "execution_count": 4,
   "id": "16ba6921",
   "metadata": {},
   "outputs": [
    {
     "name": "stdout",
     "output_type": "stream",
     "text": [
      "This article is not related to Palestine and should be categorized under 'Other'.\n"
     ]
    }
   ],
   "source": [
    "\n",
    "#Code for Detecting if the news article is related to Palestine and categorize it under a new subcategory called \"FreePalestine\".\n",
    "import re\n",
    "\n",
    "# keywords related to Palestine\n",
    "palestine_keywords = ['palestine', 'gaza', 'west bank', 'occupied territories', 'israeli occupation', 'jerusalem', 'al-aqsa', 'palestinian', 'intifada', 'hamas']\n",
    "\n",
    "# Function to check if article is related to Palestine and classify it\n",
    "def classify_article(article_text):\n",
    "    # Preprocess text (convert to lowercase and remove punctuation)\n",
    "    article_text = re.sub(r'[^\\w\\s]', '', article_text.lower())\n",
    "    # Check if any Palestine-related keyword is present\n",
    "    for keyword in palestine_keywords:\n",
    "        if keyword in article_text:\n",
    "            return True, 'FreePalestine'  # Article is related to Palestine, classify it under \"FreePalestine\" subcategory\n",
    "    return False, 'Other'  # Article is not related to Palestine\n",
    "\n",
    "# Testing\n",
    "example_article = \"\"\"\n",
    "   Miss Universe 2024 is set to be held in Mexico later this year.It is the first time the country is hosting since 2007. The event will take place on September 28, where reigning Miss Universe Sheynnis Palacios of Nicaragua will crown her successor.\n",
    "\"\"\"\n",
    "is_related, category = classify_article(example_article)\n",
    "if is_related:\n",
    "    print(\"This article is related to Palestine and should be categorized under '{}'.\".format(category))\n",
    "else:\n",
    "    print(\"This article is not related to Palestine and should be categorized under '{}'.\".format(category))"
   ]
  },
  {
   "cell_type": "code",
   "execution_count": null,
   "id": "ff3b0a8a",
   "metadata": {},
   "outputs": [],
   "source": []
  }
 ],
 "metadata": {
  "kernelspec": {
   "display_name": "Python 3 (ipykernel)",
   "language": "python",
   "name": "python3"
  },
  "language_info": {
   "codemirror_mode": {
    "name": "ipython",
    "version": 3
   },
   "file_extension": ".py",
   "mimetype": "text/x-python",
   "name": "python",
   "nbconvert_exporter": "python",
   "pygments_lexer": "ipython3",
   "version": "3.11.5"
  }
 },
 "nbformat": 4,
 "nbformat_minor": 5
}
